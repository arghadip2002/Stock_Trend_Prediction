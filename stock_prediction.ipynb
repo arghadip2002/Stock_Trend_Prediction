{
 "cells": [
  {
   "cell_type": "markdown",
   "id": "8f508355-d581-4781-b1c0-d617ce3bb4b4",
   "metadata": {},
   "source": [
    "## STOCK TREND PREDICTION "
   ]
  },
  {
   "cell_type": "markdown",
   "id": "d89e299c-689a-45ed-906f-5c5ccedb28e6",
   "metadata": {
    "tags": []
   },
   "source": [
    "##### Importing the libraries "
   ]
  },
  {
   "cell_type": "code",
   "execution_count": 55,
   "id": "393864a4-65a9-4467-b0ca-3d00c23f9a9a",
   "metadata": {
    "tags": []
   },
   "outputs": [],
   "source": [
    "import numpy as np\n",
    "import pandas as pd\n",
    "import matplotlib.pyplot as plt\n",
    "from pandas_datareader import data as data\n",
    "import yfinance as yf\n",
    "from datetime import date"
   ]
  },
  {
   "cell_type": "markdown",
   "id": "f71daec7-a0b8-429d-b01c-fafecfa570c7",
   "metadata": {},
   "source": [
    "##### Yahoo!, Y!Finance, and Yahoo! finance are registered trademarks of Yahoo, Inc.\n",
    "###### yfinance is not affiliated, endorsed, or vetted by Yahoo, Inc. It's an open-source tool that uses Yahoo's publicly available APIs, and is intended for research and educational purposes.\n",
    "\n",
    "###### Here we will work only on AAPL stock."
   ]
  },
  {
   "cell_type": "code",
   "execution_count": 56,
   "id": "bbf3f1a6-1f4c-4d07-8bd3-4f330b19d90f",
   "metadata": {
    "tags": []
   },
   "outputs": [
    {
     "name": "stdout",
     "output_type": "stream",
     "text": [
      "[*********************100%***********************]  1 of 1 completed\n"
     ]
    },
    {
     "data": {
      "text/html": [
       "<div>\n",
       "<style scoped>\n",
       "    .dataframe tbody tr th:only-of-type {\n",
       "        vertical-align: middle;\n",
       "    }\n",
       "\n",
       "    .dataframe tbody tr th {\n",
       "        vertical-align: top;\n",
       "    }\n",
       "\n",
       "    .dataframe thead th {\n",
       "        text-align: right;\n",
       "    }\n",
       "</style>\n",
       "<table border=\"1\" class=\"dataframe\">\n",
       "  <thead>\n",
       "    <tr style=\"text-align: right;\">\n",
       "      <th></th>\n",
       "      <th>Open</th>\n",
       "      <th>High</th>\n",
       "      <th>Low</th>\n",
       "      <th>Close</th>\n",
       "      <th>Adj Close</th>\n",
       "      <th>Volume</th>\n",
       "    </tr>\n",
       "    <tr>\n",
       "      <th>Date</th>\n",
       "      <th></th>\n",
       "      <th></th>\n",
       "      <th></th>\n",
       "      <th></th>\n",
       "      <th></th>\n",
       "      <th></th>\n",
       "    </tr>\n",
       "  </thead>\n",
       "  <tbody>\n",
       "    <tr>\n",
       "      <th>2023-05-08</th>\n",
       "      <td>172.479996</td>\n",
       "      <td>173.850006</td>\n",
       "      <td>172.110001</td>\n",
       "      <td>173.500000</td>\n",
       "      <td>173.260345</td>\n",
       "      <td>55962800</td>\n",
       "    </tr>\n",
       "    <tr>\n",
       "      <th>2023-05-09</th>\n",
       "      <td>173.050003</td>\n",
       "      <td>173.539993</td>\n",
       "      <td>171.600006</td>\n",
       "      <td>171.770004</td>\n",
       "      <td>171.532745</td>\n",
       "      <td>45326900</td>\n",
       "    </tr>\n",
       "    <tr>\n",
       "      <th>2023-05-10</th>\n",
       "      <td>173.020004</td>\n",
       "      <td>174.029999</td>\n",
       "      <td>171.899994</td>\n",
       "      <td>173.559998</td>\n",
       "      <td>173.320267</td>\n",
       "      <td>53724500</td>\n",
       "    </tr>\n",
       "    <tr>\n",
       "      <th>2023-05-11</th>\n",
       "      <td>173.850006</td>\n",
       "      <td>174.589996</td>\n",
       "      <td>172.169998</td>\n",
       "      <td>173.750000</td>\n",
       "      <td>173.510010</td>\n",
       "      <td>49514700</td>\n",
       "    </tr>\n",
       "    <tr>\n",
       "      <th>2023-05-12</th>\n",
       "      <td>173.619995</td>\n",
       "      <td>174.059998</td>\n",
       "      <td>171.000000</td>\n",
       "      <td>172.570007</td>\n",
       "      <td>172.570007</td>\n",
       "      <td>45497800</td>\n",
       "    </tr>\n",
       "  </tbody>\n",
       "</table>\n",
       "</div>"
      ],
      "text/plain": [
       "                  Open        High         Low       Close   Adj Close  \\\n",
       "Date                                                                     \n",
       "2023-05-08  172.479996  173.850006  172.110001  173.500000  173.260345   \n",
       "2023-05-09  173.050003  173.539993  171.600006  171.770004  171.532745   \n",
       "2023-05-10  173.020004  174.029999  171.899994  173.559998  173.320267   \n",
       "2023-05-11  173.850006  174.589996  172.169998  173.750000  173.510010   \n",
       "2023-05-12  173.619995  174.059998  171.000000  172.570007  172.570007   \n",
       "\n",
       "              Volume  \n",
       "Date                  \n",
       "2023-05-08  55962800  \n",
       "2023-05-09  45326900  \n",
       "2023-05-10  53724500  \n",
       "2023-05-11  49514700  \n",
       "2023-05-12  45497800  "
      ]
     },
     "execution_count": 56,
     "metadata": {},
     "output_type": "execute_result"
    }
   ],
   "source": [
    "start = '2010-01-01'\n",
    "end = date.today()\n",
    "\n",
    "df = yf.download('AAPL', start, end)\n",
    "df.tail()"
   ]
  },
  {
   "cell_type": "code",
   "execution_count": 57,
   "id": "5cc0852b-26d0-4c78-bee8-3a835e9d0318",
   "metadata": {
    "tags": []
   },
   "outputs": [
    {
     "data": {
      "text/html": [
       "<div>\n",
       "<style scoped>\n",
       "    .dataframe tbody tr th:only-of-type {\n",
       "        vertical-align: middle;\n",
       "    }\n",
       "\n",
       "    .dataframe tbody tr th {\n",
       "        vertical-align: top;\n",
       "    }\n",
       "\n",
       "    .dataframe thead th {\n",
       "        text-align: right;\n",
       "    }\n",
       "</style>\n",
       "<table border=\"1\" class=\"dataframe\">\n",
       "  <thead>\n",
       "    <tr style=\"text-align: right;\">\n",
       "      <th></th>\n",
       "      <th>Date</th>\n",
       "      <th>Open</th>\n",
       "      <th>High</th>\n",
       "      <th>Low</th>\n",
       "      <th>Close</th>\n",
       "      <th>Adj Close</th>\n",
       "      <th>Volume</th>\n",
       "    </tr>\n",
       "  </thead>\n",
       "  <tbody>\n",
       "    <tr>\n",
       "      <th>0</th>\n",
       "      <td>2010-01-04</td>\n",
       "      <td>7.622500</td>\n",
       "      <td>7.660714</td>\n",
       "      <td>7.585000</td>\n",
       "      <td>7.643214</td>\n",
       "      <td>6.496296</td>\n",
       "      <td>493729600</td>\n",
       "    </tr>\n",
       "    <tr>\n",
       "      <th>1</th>\n",
       "      <td>2010-01-05</td>\n",
       "      <td>7.664286</td>\n",
       "      <td>7.699643</td>\n",
       "      <td>7.616071</td>\n",
       "      <td>7.656429</td>\n",
       "      <td>6.507527</td>\n",
       "      <td>601904800</td>\n",
       "    </tr>\n",
       "    <tr>\n",
       "      <th>2</th>\n",
       "      <td>2010-01-06</td>\n",
       "      <td>7.656429</td>\n",
       "      <td>7.686786</td>\n",
       "      <td>7.526786</td>\n",
       "      <td>7.534643</td>\n",
       "      <td>6.404015</td>\n",
       "      <td>552160000</td>\n",
       "    </tr>\n",
       "    <tr>\n",
       "      <th>3</th>\n",
       "      <td>2010-01-07</td>\n",
       "      <td>7.562500</td>\n",
       "      <td>7.571429</td>\n",
       "      <td>7.466071</td>\n",
       "      <td>7.520714</td>\n",
       "      <td>6.392175</td>\n",
       "      <td>477131200</td>\n",
       "    </tr>\n",
       "    <tr>\n",
       "      <th>4</th>\n",
       "      <td>2010-01-08</td>\n",
       "      <td>7.510714</td>\n",
       "      <td>7.571429</td>\n",
       "      <td>7.466429</td>\n",
       "      <td>7.570714</td>\n",
       "      <td>6.434674</td>\n",
       "      <td>447610800</td>\n",
       "    </tr>\n",
       "  </tbody>\n",
       "</table>\n",
       "</div>"
      ],
      "text/plain": [
       "        Date      Open      High       Low     Close  Adj Close     Volume\n",
       "0 2010-01-04  7.622500  7.660714  7.585000  7.643214   6.496296  493729600\n",
       "1 2010-01-05  7.664286  7.699643  7.616071  7.656429   6.507527  601904800\n",
       "2 2010-01-06  7.656429  7.686786  7.526786  7.534643   6.404015  552160000\n",
       "3 2010-01-07  7.562500  7.571429  7.466071  7.520714   6.392175  477131200\n",
       "4 2010-01-08  7.510714  7.571429  7.466429  7.570714   6.434674  447610800"
      ]
     },
     "execution_count": 57,
     "metadata": {},
     "output_type": "execute_result"
    }
   ],
   "source": [
    "df = df.reset_index()\n",
    "df.head()"
   ]
  },
  {
   "cell_type": "code",
   "execution_count": 58,
   "id": "e4ebef38-a214-4e2d-b62b-1a6659cf5048",
   "metadata": {
    "tags": []
   },
   "outputs": [
    {
     "data": {
      "text/html": [
       "<div>\n",
       "<style scoped>\n",
       "    .dataframe tbody tr th:only-of-type {\n",
       "        vertical-align: middle;\n",
       "    }\n",
       "\n",
       "    .dataframe tbody tr th {\n",
       "        vertical-align: top;\n",
       "    }\n",
       "\n",
       "    .dataframe thead th {\n",
       "        text-align: right;\n",
       "    }\n",
       "</style>\n",
       "<table border=\"1\" class=\"dataframe\">\n",
       "  <thead>\n",
       "    <tr style=\"text-align: right;\">\n",
       "      <th></th>\n",
       "      <th>Date</th>\n",
       "      <th>Open</th>\n",
       "      <th>High</th>\n",
       "      <th>Low</th>\n",
       "      <th>Close</th>\n",
       "      <th>Volume</th>\n",
       "    </tr>\n",
       "  </thead>\n",
       "  <tbody>\n",
       "    <tr>\n",
       "      <th>0</th>\n",
       "      <td>2010-01-04</td>\n",
       "      <td>7.622500</td>\n",
       "      <td>7.660714</td>\n",
       "      <td>7.585000</td>\n",
       "      <td>7.643214</td>\n",
       "      <td>493729600</td>\n",
       "    </tr>\n",
       "    <tr>\n",
       "      <th>1</th>\n",
       "      <td>2010-01-05</td>\n",
       "      <td>7.664286</td>\n",
       "      <td>7.699643</td>\n",
       "      <td>7.616071</td>\n",
       "      <td>7.656429</td>\n",
       "      <td>601904800</td>\n",
       "    </tr>\n",
       "    <tr>\n",
       "      <th>2</th>\n",
       "      <td>2010-01-06</td>\n",
       "      <td>7.656429</td>\n",
       "      <td>7.686786</td>\n",
       "      <td>7.526786</td>\n",
       "      <td>7.534643</td>\n",
       "      <td>552160000</td>\n",
       "    </tr>\n",
       "    <tr>\n",
       "      <th>3</th>\n",
       "      <td>2010-01-07</td>\n",
       "      <td>7.562500</td>\n",
       "      <td>7.571429</td>\n",
       "      <td>7.466071</td>\n",
       "      <td>7.520714</td>\n",
       "      <td>477131200</td>\n",
       "    </tr>\n",
       "    <tr>\n",
       "      <th>4</th>\n",
       "      <td>2010-01-08</td>\n",
       "      <td>7.510714</td>\n",
       "      <td>7.571429</td>\n",
       "      <td>7.466429</td>\n",
       "      <td>7.570714</td>\n",
       "      <td>447610800</td>\n",
       "    </tr>\n",
       "  </tbody>\n",
       "</table>\n",
       "</div>"
      ],
      "text/plain": [
       "        Date      Open      High       Low     Close     Volume\n",
       "0 2010-01-04  7.622500  7.660714  7.585000  7.643214  493729600\n",
       "1 2010-01-05  7.664286  7.699643  7.616071  7.656429  601904800\n",
       "2 2010-01-06  7.656429  7.686786  7.526786  7.534643  552160000\n",
       "3 2010-01-07  7.562500  7.571429  7.466071  7.520714  477131200\n",
       "4 2010-01-08  7.510714  7.571429  7.466429  7.570714  447610800"
      ]
     },
     "execution_count": 58,
     "metadata": {},
     "output_type": "execute_result"
    }
   ],
   "source": [
    "df = df.drop([\"Adj Close\"], axis = 1)\n",
    "df.head()"
   ]
  },
  {
   "cell_type": "markdown",
   "id": "54b7b17e-d200-4428-b5d5-897d6547a240",
   "metadata": {
    "tags": []
   },
   "source": [
    "##### Plotting a graph describling the closing price of AAPL stock from 2010 to 2023\n",
    "###### Closing Price v/s Time"
   ]
  },
  {
   "cell_type": "code",
   "execution_count": 132,
   "id": "7682746b-365d-4cae-b603-798c13f442d8",
   "metadata": {
    "tags": []
   },
   "outputs": [
    {
     "data": {
      "text/plain": [
       "<matplotlib.legend.Legend at 0x1c85a3bc970>"
      ]
     },
     "execution_count": 132,
     "metadata": {},
     "output_type": "execute_result"
    },
    {
     "data": {
      "image/png": "[encoded data removed]",
      "text/plain": [
       "<Figure size 1200x600 with 1 Axes>"
      ]
     },
     "metadata": {},
     "output_type": "display_data"
    }
   ],
   "source": [
    "plt.figure(figsize=(12,6))\n",
    "plt.plot(df.Date,df.Close, label=\"Closing Price\")\n",
    "plt.title(\"Closing Price v/s Time\")\n",
    "plt.xlabel(\"Time\")\n",
    "plt.xlabel(\"Price\")\n",
    "plt.legend()"
   ]
  },
  {
   "cell_type": "code",
   "execution_count": 60,
   "id": "09d02943-7b0d-4816-ae9a-35eea1cbf988",
   "metadata": {
    "tags": []
   },
   "outputs": [
    {
     "data": {
      "text/html": [
       "<div>\n",
       "<style scoped>\n",
       "    .dataframe tbody tr th:only-of-type {\n",
       "        vertical-align: middle;\n",
       "    }\n",
       "\n",
       "    .dataframe tbody tr th {\n",
       "        vertical-align: top;\n",
       "    }\n",
       "\n",
       "    .dataframe thead th {\n",
       "        text-align: right;\n",
       "    }\n",
       "</style>\n",
       "<table border=\"1\" class=\"dataframe\">\n",
       "  <thead>\n",
       "    <tr style=\"text-align: right;\">\n",
       "      <th></th>\n",
       "      <th>Date</th>\n",
       "      <th>Open</th>\n",
       "      <th>High</th>\n",
       "      <th>Low</th>\n",
       "      <th>Close</th>\n",
       "      <th>Volume</th>\n",
       "    </tr>\n",
       "  </thead>\n",
       "  <tbody>\n",
       "    <tr>\n",
       "      <th>0</th>\n",
       "      <td>2010-01-04</td>\n",
       "      <td>7.622500</td>\n",
       "      <td>7.660714</td>\n",
       "      <td>7.585000</td>\n",
       "      <td>7.643214</td>\n",
       "      <td>493729600</td>\n",
       "    </tr>\n",
       "    <tr>\n",
       "      <th>1</th>\n",
       "      <td>2010-01-05</td>\n",
       "      <td>7.664286</td>\n",
       "      <td>7.699643</td>\n",
       "      <td>7.616071</td>\n",
       "      <td>7.656429</td>\n",
       "      <td>601904800</td>\n",
       "    </tr>\n",
       "    <tr>\n",
       "      <th>2</th>\n",
       "      <td>2010-01-06</td>\n",
       "      <td>7.656429</td>\n",
       "      <td>7.686786</td>\n",
       "      <td>7.526786</td>\n",
       "      <td>7.534643</td>\n",
       "      <td>552160000</td>\n",
       "    </tr>\n",
       "    <tr>\n",
       "      <th>3</th>\n",
       "      <td>2010-01-07</td>\n",
       "      <td>7.562500</td>\n",
       "      <td>7.571429</td>\n",
       "      <td>7.466071</td>\n",
       "      <td>7.520714</td>\n",
       "      <td>477131200</td>\n",
       "    </tr>\n",
       "    <tr>\n",
       "      <th>4</th>\n",
       "      <td>2010-01-08</td>\n",
       "      <td>7.510714</td>\n",
       "      <td>7.571429</td>\n",
       "      <td>7.466429</td>\n",
       "      <td>7.570714</td>\n",
       "      <td>447610800</td>\n",
       "    </tr>\n",
       "    <tr>\n",
       "      <th>...</th>\n",
       "      <td>...</td>\n",
       "      <td>...</td>\n",
       "      <td>...</td>\n",
       "      <td>...</td>\n",
       "      <td>...</td>\n",
       "      <td>...</td>\n",
       "    </tr>\n",
       "    <tr>\n",
       "      <th>3358</th>\n",
       "      <td>2023-05-08</td>\n",
       "      <td>172.479996</td>\n",
       "      <td>173.850006</td>\n",
       "      <td>172.110001</td>\n",
       "      <td>173.500000</td>\n",
       "      <td>55962800</td>\n",
       "    </tr>\n",
       "    <tr>\n",
       "      <th>3359</th>\n",
       "      <td>2023-05-09</td>\n",
       "      <td>173.050003</td>\n",
       "      <td>173.539993</td>\n",
       "      <td>171.600006</td>\n",
       "      <td>171.770004</td>\n",
       "      <td>45326900</td>\n",
       "    </tr>\n",
       "    <tr>\n",
       "      <th>3360</th>\n",
       "      <td>2023-05-10</td>\n",
       "      <td>173.020004</td>\n",
       "      <td>174.029999</td>\n",
       "      <td>171.899994</td>\n",
       "      <td>173.559998</td>\n",
       "      <td>53724500</td>\n",
       "    </tr>\n",
       "    <tr>\n",
       "      <th>3361</th>\n",
       "      <td>2023-05-11</td>\n",
       "      <td>173.850006</td>\n",
       "      <td>174.589996</td>\n",
       "      <td>172.169998</td>\n",
       "      <td>173.750000</td>\n",
       "      <td>49514700</td>\n",
       "    </tr>\n",
       "    <tr>\n",
       "      <th>3362</th>\n",
       "      <td>2023-05-12</td>\n",
       "      <td>173.619995</td>\n",
       "      <td>174.059998</td>\n",
       "      <td>171.000000</td>\n",
       "      <td>172.570007</td>\n",
       "      <td>45497800</td>\n",
       "    </tr>\n",
       "  </tbody>\n",
       "</table>\n",
       "<p>3363 rows × 6 columns</p>\n",
       "</div>"
      ],
      "text/plain": [
       "           Date        Open        High         Low       Close     Volume\n",
       "0    2010-01-04    7.622500    7.660714    7.585000    7.643214  493729600\n",
       "1    2010-01-05    7.664286    7.699643    7.616071    7.656429  601904800\n",
       "2    2010-01-06    7.656429    7.686786    7.526786    7.534643  552160000\n",
       "3    2010-01-07    7.562500    7.571429    7.466071    7.520714  477131200\n",
       "4    2010-01-08    7.510714    7.571429    7.466429    7.570714  447610800\n",
       "...         ...         ...         ...         ...         ...        ...\n",
       "3358 2023-05-08  172.479996  173.850006  172.110001  173.500000   55962800\n",
       "3359 2023-05-09  173.050003  173.539993  171.600006  171.770004   45326900\n",
       "3360 2023-05-10  173.020004  174.029999  171.899994  173.559998   53724500\n",
       "3361 2023-05-11  173.850006  174.589996  172.169998  173.750000   49514700\n",
       "3362 2023-05-12  173.619995  174.059998  171.000000  172.570007   45497800\n",
       "\n",
       "[3363 rows x 6 columns]"
      ]
     },
     "execution_count": 60,
     "metadata": {},
     "output_type": "execute_result"
    }
   ],
   "source": [
    "df"
   ]
  },
  {
   "cell_type": "markdown",
   "id": "888fdf5d-35da-4749-918d-e9873f79e991",
   "metadata": {},
   "source": [
    "##### Now we will plot a graph of Closing Price v/s Time with Moving Averages"
   ]
  },
  {
   "cell_type": "markdown",
   "id": "543e74ea-e9c5-4b63-b15f-f34d097f8686",
   "metadata": {},
   "source": [
    "### What Is a Moving Average (MA)?\n",
    "\n",
    "###### In finance, a moving average (MA) is a stock indicator commonly used in technical analysis. The reason for calculating the moving average of a stock is to help smooth out the price data by creating a constantly updated average price.\n",
    "###### By calculating the moving average, the impacts of random, short-term fluctuations on the price of a stock over a specified time frame are mitigated. Simple moving averages (SMAs) use a simple arithmetic average of prices over some timespan, while exponential moving averages (EMAs) place greater weight on more recent prices than older ones over the time period.\n",
    "###### Moving averages are calculated to identify the trend direction of a stock or to determine its support and resistance levels. It is a trend-following or lagging, indicator because it is based on past prices.\n",
    "\n",
    "\n",
    "\n",
    "#### In this we are going to implement the Simple Moving Average (SMA)\n",
    "\n",
    "##### Simple Moving Average\n",
    "###### A simple moving average (SMA), is calculated by taking the arithmetic mean of a given set of values over a specified period. A set of numbers, or prices of stocks, are added together and then divided by the number of prices in the set. The formula for calculating the simple moving average of a security is as follows:\n",
    "\n",
    "###### SMA = (A1+A2+A3+....+An)/n\n",
    "###### where:\n",
    "###### A=Average in period n\n",
    "###### n=Number of time periods"
   ]
  },
  {
   "cell_type": "code",
   "execution_count": 61,
   "id": "5c53af59-bb33-47ca-9d6f-1a98b32c1c83",
   "metadata": {
    "tags": []
   },
   "outputs": [
    {
     "data": {
      "text/plain": [
       "0              NaN\n",
       "1              NaN\n",
       "2              NaN\n",
       "3              NaN\n",
       "4              NaN\n",
       "           ...    \n",
       "3358    150.419900\n",
       "3359    150.682900\n",
       "3360    150.986399\n",
       "3361    151.358899\n",
       "3362    151.739500\n",
       "Name: Close, Length: 3363, dtype: float64"
      ]
     },
     "execution_count": 61,
     "metadata": {},
     "output_type": "execute_result"
    }
   ],
   "source": [
    "# TAking a 100 day moving average.\n",
    "ma100 = df.Close.rolling(100).mean()\n",
    "ma100"
   ]
  },
  {
   "cell_type": "markdown",
   "id": "1afeb96b-9b0c-4c73-ba75-6e8a7bda7090",
   "metadata": {
    "tags": []
   },
   "source": [
    "##### Plotting a graph of Closing Price v/s Time with 100 Days Moving Averages"
   ]
  },
  {
   "cell_type": "code",
   "execution_count": 133,
   "id": "367a3eea-45c3-4aae-a291-d565c2706852",
   "metadata": {
    "tags": []
   },
   "outputs": [
    {
     "data": {
      "text/plain": [
       "<matplotlib.legend.Legend at 0x1c848057580>"
      ]
     },
     "execution_count": 133,
     "metadata": {},
     "output_type": "execute_result"
    },
    {
     "data": {
      "image/png": "[encoded data removed]",
      "text/plain": [
       "<Figure size 1200x600 with 1 Axes>"
      ]
     },
     "metadata": {},
     "output_type": "display_data"
    }
   ],
   "source": [
    "plt.figure(figsize = (12,6))\n",
    "plt.plot(df.Date,df.Close)\n",
    "plt.plot(df.Date,ma100, color=\"r\", label=\"100 days Moving Average\")\n",
    "plt.title(\"Closing Price v/s Time with 100 days Moving Average\")\n",
    "plt.xlabel(\"Time\")\n",
    "plt.xlabel(\"Price\")\n",
    "plt.legend()"
   ]
  },
  {
   "cell_type": "markdown",
   "id": "f057a4e0-3373-482d-80e0-d7b21b1b695f",
   "metadata": {},
   "source": [
    "##### Plotting a graph of Closing Price v/s Time with 200 Days Moving Averages"
   ]
  },
  {
   "cell_type": "code",
   "execution_count": 63,
   "id": "fe13c7bc-f0ee-41f3-ba57-faef430cbb40",
   "metadata": {
    "tags": []
   },
   "outputs": [
    {
     "data": {
      "text/plain": [
       "0              NaN\n",
       "1              NaN\n",
       "2              NaN\n",
       "3              NaN\n",
       "4              NaN\n",
       "           ...    \n",
       "3358    151.462949\n",
       "3359    151.551350\n",
       "3360    151.654400\n",
       "3361    151.765149\n",
       "3362    151.844050\n",
       "Name: Close, Length: 3363, dtype: float64"
      ]
     },
     "execution_count": 63,
     "metadata": {},
     "output_type": "execute_result"
    }
   ],
   "source": [
    "#Taking a 200 days moving Average\n",
    "ma200 = df.Close.rolling(200).mean()\n",
    "ma200"
   ]
  },
  {
   "cell_type": "code",
   "execution_count": 134,
   "id": "8f335d7d-8227-45e6-9415-7d679e84eaee",
   "metadata": {
    "tags": []
   },
   "outputs": [
    {
     "data": {
      "text/plain": [
       "<matplotlib.legend.Legend at 0x1c85a46d8a0>"
      ]
     },
     "execution_count": 134,
     "metadata": {},
     "output_type": "execute_result"
    },
    {
     "data": {
      "image/png": "[encoded data removed]",
      "text/plain": [
       "<Figure size 1200x600 with 1 Axes>"
      ]
     },
     "metadata": {},
     "output_type": "display_data"
    }
   ],
   "source": [
    "plt.figure(figsize = (12,6))\n",
    "plt.plot(df.Date,df.Close)\n",
    "plt.plot(df.Date,ma200, color=\"g\", label=\"200 days Moving Average\")\n",
    "plt.title(\"Closing Price v/s Time with 200 days Moving Average\")\n",
    "plt.xlabel(\"Time\")\n",
    "plt.xlabel(\"Price\")\n",
    "plt.legend()"
   ]
  },
  {
   "cell_type": "markdown",
   "id": "ef6c2b76-28e7-407a-a735-5f92dc5e5b80",
   "metadata": {
    "tags": []
   },
   "source": [
    "##### Plotting and Analysing graph of Closing Price v/s Time with 100 Days and 200 Days Moving Averages\n",
    "\n",
    "##### When the 100day SMA (red line) is above the 200days SMA(green line) then a up-trend can be seen and if the reverse occurs then a down-trend occurs\n",
    "###### Many experts also use Exponential moving average for the analysis of the trend of Stocks."
   ]
  },
  {
   "cell_type": "code",
   "execution_count": 138,
   "id": "663a0fd5-c410-454b-9c8a-2c02c7dcd5e0",
   "metadata": {
    "tags": []
   },
   "outputs": [
    {
     "data": {
      "text/plain": [
       "<matplotlib.legend.Legend at 0x1c85a61f550>"
      ]
     },
     "execution_count": 138,
     "metadata": {},
     "output_type": "execute_result"
    },
    {
     "data": {
      "image/png": "[encoded data removed]",
      "text/plain": [
       "<Figure size 1200x600 with 1 Axes>"
      ]
     },
     "metadata": {},
     "output_type": "display_data"
    }
   ],
   "source": [
    "plt.figure(figsize = (12,6))\n",
    "plt.plot(df.Close)\n",
    "plt.plot(ma100, color=\"r\", label=\"100 days MA\")\n",
    "plt.plot(ma200, color=\"g\", label=\"200 days MA\")\n",
    "\n",
    "plt.title(\"Closing Price v/s Time with 200 days Moving Average\")\n",
    "plt.xlabel(\"Time\")\n",
    "plt.xlabel(\"Price\")\n",
    "plt.legend()"
   ]
  },
  {
   "cell_type": "markdown",
   "id": "9ac829d7-ffd7-4814-8a2d-042a5ca2a054",
   "metadata": {},
   "source": [
    "#### Splitting data into training and testing"
   ]
  },
  {
   "cell_type": "code",
   "execution_count": 66,
   "id": "da5504f8-b8e7-4547-b5a4-f0b27bb2aa45",
   "metadata": {
    "tags": []
   },
   "outputs": [
    {
     "name": "stdout",
     "output_type": "stream",
     "text": [
      "(2354, 1)\n",
      "(1009, 1)\n"
     ]
    }
   ],
   "source": [
    "#splitting data into training and testing\n",
    "\n",
    "data_training = pd.DataFrame(df[\"Close\"][0:int(len(df)*0.70)])\n",
    "data_testing = pd.DataFrame(df[\"Close\"][int(len(df)*0.70):int(len(df))])\n",
    "\n",
    "print(data_training.shape)\n",
    "print(data_testing.shape)"
   ]
  },
  {
   "cell_type": "code",
   "execution_count": 67,
   "id": "a0192dd7-f72b-4aa1-bcfc-93988928c81b",
   "metadata": {
    "tags": []
   },
   "outputs": [
    {
     "data": {
      "text/html": [
       "<div>\n",
       "<style scoped>\n",
       "    .dataframe tbody tr th:only-of-type {\n",
       "        vertical-align: middle;\n",
       "    }\n",
       "\n",
       "    .dataframe tbody tr th {\n",
       "        vertical-align: top;\n",
       "    }\n",
       "\n",
       "    .dataframe thead th {\n",
       "        text-align: right;\n",
       "    }\n",
       "</style>\n",
       "<table border=\"1\" class=\"dataframe\">\n",
       "  <thead>\n",
       "    <tr style=\"text-align: right;\">\n",
       "      <th></th>\n",
       "      <th>Close</th>\n",
       "    </tr>\n",
       "  </thead>\n",
       "  <tbody>\n",
       "    <tr>\n",
       "      <th>0</th>\n",
       "      <td>7.643214</td>\n",
       "    </tr>\n",
       "    <tr>\n",
       "      <th>1</th>\n",
       "      <td>7.656429</td>\n",
       "    </tr>\n",
       "    <tr>\n",
       "      <th>2</th>\n",
       "      <td>7.534643</td>\n",
       "    </tr>\n",
       "    <tr>\n",
       "      <th>3</th>\n",
       "      <td>7.520714</td>\n",
       "    </tr>\n",
       "    <tr>\n",
       "      <th>4</th>\n",
       "      <td>7.570714</td>\n",
       "    </tr>\n",
       "  </tbody>\n",
       "</table>\n",
       "</div>"
      ],
      "text/plain": [
       "      Close\n",
       "0  7.643214\n",
       "1  7.656429\n",
       "2  7.534643\n",
       "3  7.520714\n",
       "4  7.570714"
      ]
     },
     "execution_count": 67,
     "metadata": {},
     "output_type": "execute_result"
    }
   ],
   "source": [
    "data_training.head()"
   ]
  },
  {
   "cell_type": "code",
   "execution_count": 68,
   "id": "335f8ead-e28e-44b6-b7af-c18a4f8c096c",
   "metadata": {
    "tags": []
   },
   "outputs": [
    {
     "data": {
      "text/html": [
       "<div>\n",
       "<style scoped>\n",
       "    .dataframe tbody tr th:only-of-type {\n",
       "        vertical-align: middle;\n",
       "    }\n",
       "\n",
       "    .dataframe tbody tr th {\n",
       "        vertical-align: top;\n",
       "    }\n",
       "\n",
       "    .dataframe thead th {\n",
       "        text-align: right;\n",
       "    }\n",
       "</style>\n",
       "<table border=\"1\" class=\"dataframe\">\n",
       "  <thead>\n",
       "    <tr style=\"text-align: right;\">\n",
       "      <th></th>\n",
       "      <th>Close</th>\n",
       "    </tr>\n",
       "  </thead>\n",
       "  <tbody>\n",
       "    <tr>\n",
       "      <th>2354</th>\n",
       "      <td>46.430000</td>\n",
       "    </tr>\n",
       "    <tr>\n",
       "      <th>2355</th>\n",
       "      <td>47.165001</td>\n",
       "    </tr>\n",
       "    <tr>\n",
       "      <th>2356</th>\n",
       "      <td>47.730000</td>\n",
       "    </tr>\n",
       "    <tr>\n",
       "      <th>2357</th>\n",
       "      <td>47.520000</td>\n",
       "    </tr>\n",
       "    <tr>\n",
       "      <th>2358</th>\n",
       "      <td>47.250000</td>\n",
       "    </tr>\n",
       "  </tbody>\n",
       "</table>\n",
       "</div>"
      ],
      "text/plain": [
       "          Close\n",
       "2354  46.430000\n",
       "2355  47.165001\n",
       "2356  47.730000\n",
       "2357  47.520000\n",
       "2358  47.250000"
      ]
     },
     "execution_count": 68,
     "metadata": {},
     "output_type": "execute_result"
    }
   ],
   "source": [
    "data_testing.head()"
   ]
  },
  {
   "cell_type": "code",
   "execution_count": 69,
   "id": "89745fa8-5e0c-45bb-8824-e4655cb0a497",
   "metadata": {
    "tags": []
   },
   "outputs": [],
   "source": [
    "#Scalling the data between 0 and 1\n",
    "\n",
    "from sklearn.preprocessing import MinMaxScaler\n",
    "scaler = MinMaxScaler(feature_range=(0,1))"
   ]
  },
  {
   "cell_type": "code",
   "execution_count": 70,
   "id": "9daaf11d-2b09-4e61-b519-f117f592bcf5",
   "metadata": {
    "tags": []
   },
   "outputs": [
    {
     "data": {
      "text/plain": [
       "array([[0.01533047],\n",
       "       [0.01558878],\n",
       "       [0.01320823],\n",
       "       ...,\n",
       "       [0.85745296],\n",
       "       [0.84679984],\n",
       "       [0.82950064]])"
      ]
     },
     "execution_count": 70,
     "metadata": {},
     "output_type": "execute_result"
    }
   ],
   "source": [
    "data_training_array = scaler.fit_transform(data_training)\n",
    "data_training_array"
   ]
  },
  {
   "cell_type": "markdown",
   "id": "1d70720e-16bb-403c-817c-16ff684bde89",
   "metadata": {},
   "source": [
    "#### Traing Data"
   ]
  },
  {
   "cell_type": "code",
   "execution_count": 71,
   "id": "0f1ca9ff-4b58-4449-9ea9-67f9ed3b1a17",
   "metadata": {
    "tags": []
   },
   "outputs": [],
   "source": [
    "x_train = []\n",
    "y_train = []\n",
    "\n",
    "for i in range(100,data_training_array.shape[0]):\n",
    "    x_train.append(data_training_array[i-100:i])\n",
    "    y_train.append(data_training_array[i,0]) \n",
    "    \n",
    "x_train, y_train =np.array(x_train), np.array(y_train)"
   ]
  },
  {
   "cell_type": "code",
   "execution_count": 72,
   "id": "49511eef-df14-4ccb-9806-522e802cbc7f",
   "metadata": {
    "tags": []
   },
   "outputs": [
    {
     "data": {
      "text/plain": [
       "array([[[0.01533047],\n",
       "        [0.01558878],\n",
       "        [0.01320823],\n",
       "        ...,\n",
       "        [0.03819355],\n",
       "        [0.03711847],\n",
       "        [0.03634356]],\n",
       "\n",
       "       [[0.01558878],\n",
       "        [0.01320823],\n",
       "        [0.01293595],\n",
       "        ...,\n",
       "        [0.03711847],\n",
       "        [0.03634356],\n",
       "        [0.04279409]],\n",
       "\n",
       "       [[0.01320823],\n",
       "        [0.01293595],\n",
       "        [0.01391331],\n",
       "        ...,\n",
       "        [0.03634356],\n",
       "        [0.04279409],\n",
       "        [0.04525843]],\n",
       "\n",
       "       ...,\n",
       "\n",
       "       [[0.69228031],\n",
       "        [0.70132078],\n",
       "        [0.67459016],\n",
       "        ...,\n",
       "        [0.90070087],\n",
       "        [0.88472112],\n",
       "        [0.85725752]],\n",
       "\n",
       "       [[0.70132078],\n",
       "        [0.67459016],\n",
       "        [0.66706457],\n",
       "        ...,\n",
       "        [0.88472112],\n",
       "        [0.85725752],\n",
       "        [0.85745296]],\n",
       "\n",
       "       [[0.67459016],\n",
       "        [0.66706457],\n",
       "        [0.67747341],\n",
       "        ...,\n",
       "        [0.85725752],\n",
       "        [0.85745296],\n",
       "        [0.84679984]]])"
      ]
     },
     "execution_count": 72,
     "metadata": {},
     "output_type": "execute_result"
    }
   ],
   "source": [
    "x_train"
   ]
  },
  {
   "cell_type": "code",
   "execution_count": 73,
   "id": "525c5204-2091-4fae-8bd4-f117a3ce122e",
   "metadata": {
    "tags": []
   },
   "outputs": [
    {
     "data": {
      "text/plain": [
       "array([0.04279409, 0.04525843, 0.04801596, ..., 0.85745296, 0.84679984,\n",
       "       0.82950064])"
      ]
     },
     "execution_count": 73,
     "metadata": {},
     "output_type": "execute_result"
    }
   ],
   "source": [
    "y_train"
   ]
  },
  {
   "cell_type": "code",
   "execution_count": 74,
   "id": "94d55eac-afdb-49f1-a8d6-b12c0ef7c848",
   "metadata": {
    "tags": []
   },
   "outputs": [
    {
     "data": {
      "text/plain": [
       "(2254, 100, 1)"
      ]
     },
     "execution_count": 74,
     "metadata": {},
     "output_type": "execute_result"
    }
   ],
   "source": [
    "x_train.shape"
   ]
  },
  {
   "cell_type": "code",
   "execution_count": 75,
   "id": "927280ef-ecf0-4da5-8f8a-dbceaf88ef74",
   "metadata": {
    "tags": []
   },
   "outputs": [
    {
     "data": {
      "text/plain": [
       "(2254,)"
      ]
     },
     "execution_count": 75,
     "metadata": {},
     "output_type": "execute_result"
    }
   ],
   "source": [
    "y_train.shape"
   ]
  },
  {
   "cell_type": "markdown",
   "id": "1196e310-066a-488f-95b1-6380faa3776d",
   "metadata": {},
   "source": [
    "##### Making the ML Model with Sequential and LSTM from tensorflow.keras"
   ]
  },
  {
   "cell_type": "code",
   "execution_count": 76,
   "id": "1d24bde5-0bdf-4f06-817a-9ff1b76b3c2f",
   "metadata": {
    "tags": []
   },
   "outputs": [],
   "source": [
    "# ML Model\n",
    "\n",
    "from tensorflow.keras import Sequential\n",
    "from keras.layers import Dense, Dropout, LSTM"
   ]
  },
  {
   "cell_type": "code",
   "execution_count": 77,
   "id": "de6e8bea-3637-4fa6-aaa9-31f3e1dd15a1",
   "metadata": {
    "tags": []
   },
   "outputs": [],
   "source": [
    "model = Sequential()\n",
    "model.add(LSTM(units=50, activation = 'relu', return_sequences=True,\n",
    "               input_shape = (x_train.shape[1],1)))\n",
    "model.add(Dropout(0.2))\n",
    "\n",
    "\n",
    "\n",
    "model.add(LSTM(units=60, activation = 'relu', return_sequences=True))\n",
    "model.add(Dropout(0.3))\n",
    "\n",
    "\n",
    "\n",
    "model.add(LSTM(units=80, activation = 'relu', return_sequences=True))\n",
    "model.add(Dropout(0.4))\n",
    "\n",
    "\n",
    "\n",
    "model.add(LSTM(units=120, activation = 'relu'))\n",
    "model.add(Dropout(0.5))\n",
    "\n",
    "\n",
    "model.add(Dense(units=1))"
   ]
  },
  {
   "cell_type": "code",
   "execution_count": 78,
   "id": "c48fd7b5-7a3c-47e4-aa73-b0f01df683dc",
   "metadata": {
    "tags": []
   },
   "outputs": [
    {
     "name": "stdout",
     "output_type": "stream",
     "text": [
      "Model: \"sequential_2\"\n",
      "_________________________________________________________________\n",
      " Layer (type)                Output Shape              Param #   \n",
      "=================================================================\n",
      " lstm_4 (LSTM)               (None, 100, 50)           10400     \n",
      "                                                                 \n",
      " dropout_4 (Dropout)         (None, 100, 50)           0         \n",
      "                                                                 \n",
      " lstm_5 (LSTM)               (None, 100, 60)           26640     \n",
      "                                                                 \n",
      " dropout_5 (Dropout)         (None, 100, 60)           0         \n",
      "                                                                 \n",
      " lstm_6 (LSTM)               (None, 100, 80)           45120     \n",
      "                                                                 \n",
      " dropout_6 (Dropout)         (None, 100, 80)           0         \n",
      "                                                                 \n",
      " lstm_7 (LSTM)               (None, 120)               96480     \n",
      "                                                                 \n",
      " dropout_7 (Dropout)         (None, 120)               0         \n",
      "                                                                 \n",
      " dense_1 (Dense)             (None, 1)                 121       \n",
      "                                                                 \n",
      "=================================================================\n",
      "Total params: 178,761\n",
      "Trainable params: 178,761\n",
      "Non-trainable params: 0\n",
      "_________________________________________________________________\n"
     ]
    }
   ],
   "source": [
    "model.summary()"
   ]
  },
  {
   "cell_type": "markdown",
   "id": "a4c3a886-4f37-48c9-909d-c71f4b51d958",
   "metadata": {
    "tags": []
   },
   "source": [
    "##### Training the model with our train data that we have fetched from yfinance. We will use 'adam' Optimizer and 'mean_squared_error' or MSE for determining loss factor of the model. Taking Epochs = 50"
   ]
  },
  {
   "cell_type": "code",
   "execution_count": 79,
   "id": "f8ca40aa-b8e8-4214-819b-a411fea4ae48",
   "metadata": {
    "tags": []
   },
   "outputs": [
    {
     "name": "stdout",
     "output_type": "stream",
     "text": [
      "Epoch 1/50\n",
      "71/71 [==============================] - 42s 525ms/step - loss: 0.0335\n",
      "Epoch 2/50\n",
      "71/71 [==============================] - 21s 293ms/step - loss: 0.0071\n",
      "Epoch 3/50\n",
      "71/71 [==============================] - 16s 231ms/step - loss: 0.0061\n",
      "Epoch 4/50\n",
      "71/71 [==============================] - 16s 220ms/step - loss: 0.0057\n",
      "Epoch 5/50\n",
      "71/71 [==============================] - 15s 213ms/step - loss: 0.0058\n",
      "Epoch 6/50\n",
      "71/71 [==============================] - 16s 228ms/step - loss: 0.0052\n",
      "Epoch 7/50\n",
      "71/71 [==============================] - 16s 222ms/step - loss: 0.0050\n",
      "Epoch 8/50\n",
      "71/71 [==============================] - 16s 230ms/step - loss: 0.0047\n",
      "Epoch 9/50\n",
      "71/71 [==============================] - 16s 225ms/step - loss: 0.0044\n",
      "Epoch 10/50\n",
      "71/71 [==============================] - 16s 228ms/step - loss: 0.0043\n",
      "Epoch 11/50\n",
      "71/71 [==============================] - 17s 237ms/step - loss: 0.0047\n",
      "Epoch 12/50\n",
      "71/71 [==============================] - 16s 228ms/step - loss: 0.0038\n",
      "Epoch 13/50\n",
      "71/71 [==============================] - 16s 226ms/step - loss: 0.0039\n",
      "Epoch 14/50\n",
      "71/71 [==============================] - 17s 238ms/step - loss: 0.0037\n",
      "Epoch 15/50\n",
      "71/71 [==============================] - 16s 232ms/step - loss: 0.0038\n",
      "Epoch 16/50\n",
      "71/71 [==============================] - 17s 237ms/step - loss: 0.0036\n",
      "Epoch 17/50\n",
      "71/71 [==============================] - 16s 232ms/step - loss: 0.0031\n",
      "Epoch 18/50\n",
      "71/71 [==============================] - 16s 228ms/step - loss: 0.0030\n",
      "Epoch 19/50\n",
      "71/71 [==============================] - 16s 231ms/step - loss: 0.0032\n",
      "Epoch 20/50\n",
      "71/71 [==============================] - 16s 232ms/step - loss: 0.0032\n",
      "Epoch 21/50\n",
      "71/71 [==============================] - 17s 236ms/step - loss: 0.0031\n",
      "Epoch 22/50\n",
      "71/71 [==============================] - 17s 234ms/step - loss: 0.0028\n",
      "Epoch 23/50\n",
      "71/71 [==============================] - 17s 233ms/step - loss: 0.0027\n",
      "Epoch 24/50\n",
      "71/71 [==============================] - 17s 232ms/step - loss: 0.0026\n",
      "Epoch 25/50\n",
      "71/71 [==============================] - 17s 233ms/step - loss: 0.0026\n",
      "Epoch 26/50\n",
      "71/71 [==============================] - 17s 235ms/step - loss: 0.0026\n",
      "Epoch 27/50\n",
      "71/71 [==============================] - 17s 236ms/step - loss: 0.0026\n",
      "Epoch 28/50\n",
      "71/71 [==============================] - 16s 231ms/step - loss: 0.0026\n",
      "Epoch 29/50\n",
      "71/71 [==============================] - 17s 239ms/step - loss: 0.0024\n",
      "Epoch 30/50\n",
      "71/71 [==============================] - 17s 236ms/step - loss: 0.0021\n",
      "Epoch 31/50\n",
      "71/71 [==============================] - 16s 231ms/step - loss: 0.0022\n",
      "Epoch 32/50\n",
      "71/71 [==============================] - 17s 236ms/step - loss: 0.0023\n",
      "Epoch 33/50\n",
      "71/71 [==============================] - 17s 242ms/step - loss: 0.0023\n",
      "Epoch 34/50\n",
      "71/71 [==============================] - 17s 236ms/step - loss: 0.0022\n",
      "Epoch 35/50\n",
      "71/71 [==============================] - 17s 233ms/step - loss: 0.0023\n",
      "Epoch 36/50\n",
      "71/71 [==============================] - 17s 238ms/step - loss: 0.0021\n",
      "Epoch 37/50\n",
      "71/71 [==============================] - 17s 243ms/step - loss: 0.0021\n",
      "Epoch 38/50\n",
      "71/71 [==============================] - 17s 232ms/step - loss: 0.0020\n",
      "Epoch 39/50\n",
      "71/71 [==============================] - 16s 231ms/step - loss: 0.0022\n",
      "Epoch 40/50\n",
      "71/71 [==============================] - 17s 240ms/step - loss: 0.0022\n",
      "Epoch 41/50\n",
      "71/71 [==============================] - 17s 239ms/step - loss: 0.0021\n",
      "Epoch 42/50\n",
      "71/71 [==============================] - 18s 249ms/step - loss: 0.0021\n",
      "Epoch 43/50\n",
      "71/71 [==============================] - 17s 244ms/step - loss: 0.0023\n",
      "Epoch 44/50\n",
      "71/71 [==============================] - 17s 239ms/step - loss: 0.0020\n",
      "Epoch 45/50\n",
      "71/71 [==============================] - 17s 236ms/step - loss: 0.0019\n",
      "Epoch 46/50\n",
      "71/71 [==============================] - 17s 238ms/step - loss: 0.0021\n",
      "Epoch 47/50\n",
      "71/71 [==============================] - 17s 234ms/step - loss: 0.0021\n",
      "Epoch 48/50\n",
      "71/71 [==============================] - 17s 239ms/step - loss: 0.0022\n",
      "Epoch 49/50\n",
      "71/71 [==============================] - 17s 232ms/step - loss: 0.0020\n",
      "Epoch 50/50\n",
      "71/71 [==============================] - 16s 232ms/step - loss: 0.0023\n"
     ]
    },
    {
     "data": {
      "text/plain": [
       "<keras.callbacks.History at 0x1c84522d570>"
      ]
     },
     "execution_count": 79,
     "metadata": {},
     "output_type": "execute_result"
    }
   ],
   "source": [
    "model.compile(optimizer='adam', loss = 'mean_squared_error')\n",
    "model.fit(x_train,y_train,epochs = 50)"
   ]
  },
  {
   "cell_type": "markdown",
   "id": "22976492-3587-4395-b151-6e4ff9115aa2",
   "metadata": {},
   "source": [
    "###### Saving the model"
   ]
  },
  {
   "cell_type": "code",
   "execution_count": 97,
   "id": "6ddc5ce8-dc93-4df5-a381-48029efe84fb",
   "metadata": {
    "tags": []
   },
   "outputs": [
    {
     "name": "stderr",
     "output_type": "stream",
     "text": [
      "WARNING:absl:Found untraced functions such as _update_step_xla while saving (showing 1 of 1). These functions will not be directly callable after loading.\n"
     ]
    },
    {
     "name": "stdout",
     "output_type": "stream",
     "text": [
      "INFO:tensorflow:Assets written to: stock_trend_prediction_model_main\\assets\n"
     ]
    },
    {
     "name": "stderr",
     "output_type": "stream",
     "text": [
      "INFO:tensorflow:Assets written to: stock_trend_prediction_model_main\\assets\n"
     ]
    }
   ],
   "source": [
    "model.save(\"stock_trend_prediction_model_main\")"
   ]
  },
  {
   "cell_type": "markdown",
   "id": "629148e0-3ef6-48e8-b287-e2b4684203e6",
   "metadata": {},
   "source": [
    "##### Testing the ML Model"
   ]
  },
  {
   "cell_type": "code",
   "execution_count": 81,
   "id": "2ca8f312-863f-4d94-bb9f-4e97d506729d",
   "metadata": {
    "tags": []
   },
   "outputs": [
    {
     "data": {
      "text/html": [
       "<div>\n",
       "<style scoped>\n",
       "    .dataframe tbody tr th:only-of-type {\n",
       "        vertical-align: middle;\n",
       "    }\n",
       "\n",
       "    .dataframe tbody tr th {\n",
       "        vertical-align: top;\n",
       "    }\n",
       "\n",
       "    .dataframe thead th {\n",
       "        text-align: right;\n",
       "    }\n",
       "</style>\n",
       "<table border=\"1\" class=\"dataframe\">\n",
       "  <thead>\n",
       "    <tr style=\"text-align: right;\">\n",
       "      <th></th>\n",
       "      <th>Close</th>\n",
       "    </tr>\n",
       "  </thead>\n",
       "  <tbody>\n",
       "    <tr>\n",
       "      <th>2354</th>\n",
       "      <td>46.430000</td>\n",
       "    </tr>\n",
       "    <tr>\n",
       "      <th>2355</th>\n",
       "      <td>47.165001</td>\n",
       "    </tr>\n",
       "    <tr>\n",
       "      <th>2356</th>\n",
       "      <td>47.730000</td>\n",
       "    </tr>\n",
       "    <tr>\n",
       "      <th>2357</th>\n",
       "      <td>47.520000</td>\n",
       "    </tr>\n",
       "    <tr>\n",
       "      <th>2358</th>\n",
       "      <td>47.250000</td>\n",
       "    </tr>\n",
       "  </tbody>\n",
       "</table>\n",
       "</div>"
      ],
      "text/plain": [
       "          Close\n",
       "2354  46.430000\n",
       "2355  47.165001\n",
       "2356  47.730000\n",
       "2357  47.520000\n",
       "2358  47.250000"
      ]
     },
     "execution_count": 81,
     "metadata": {},
     "output_type": "execute_result"
    }
   ],
   "source": [
    "#testing the ML Model\n",
    "\n",
    "data_testing.head()"
   ]
  },
  {
   "cell_type": "code",
   "execution_count": 82,
   "id": "47bf6905-5cd9-4211-80c3-578c43a4ed54",
   "metadata": {
    "tags": []
   },
   "outputs": [
    {
     "data": {
      "text/html": [
       "<div>\n",
       "<style scoped>\n",
       "    .dataframe tbody tr th:only-of-type {\n",
       "        vertical-align: middle;\n",
       "    }\n",
       "\n",
       "    .dataframe tbody tr th {\n",
       "        vertical-align: top;\n",
       "    }\n",
       "\n",
       "    .dataframe thead th {\n",
       "        text-align: right;\n",
       "    }\n",
       "</style>\n",
       "<table border=\"1\" class=\"dataframe\">\n",
       "  <thead>\n",
       "    <tr style=\"text-align: right;\">\n",
       "      <th></th>\n",
       "      <th>Close</th>\n",
       "    </tr>\n",
       "  </thead>\n",
       "  <tbody>\n",
       "    <tr>\n",
       "      <th>2254</th>\n",
       "      <td>40.985001</td>\n",
       "    </tr>\n",
       "    <tr>\n",
       "      <th>2255</th>\n",
       "      <td>41.517502</td>\n",
       "    </tr>\n",
       "    <tr>\n",
       "      <th>2256</th>\n",
       "      <td>40.222500</td>\n",
       "    </tr>\n",
       "    <tr>\n",
       "      <th>2257</th>\n",
       "      <td>39.207500</td>\n",
       "    </tr>\n",
       "    <tr>\n",
       "      <th>2258</th>\n",
       "      <td>37.682499</td>\n",
       "    </tr>\n",
       "    <tr>\n",
       "      <th>...</th>\n",
       "      <td>...</td>\n",
       "    </tr>\n",
       "    <tr>\n",
       "      <th>2349</th>\n",
       "      <td>52.119999</td>\n",
       "    </tr>\n",
       "    <tr>\n",
       "      <th>2350</th>\n",
       "      <td>50.715000</td>\n",
       "    </tr>\n",
       "    <tr>\n",
       "      <th>2351</th>\n",
       "      <td>50.724998</td>\n",
       "    </tr>\n",
       "    <tr>\n",
       "      <th>2352</th>\n",
       "      <td>50.180000</td>\n",
       "    </tr>\n",
       "    <tr>\n",
       "      <th>2353</th>\n",
       "      <td>49.294998</td>\n",
       "    </tr>\n",
       "  </tbody>\n",
       "</table>\n",
       "<p>100 rows × 1 columns</p>\n",
       "</div>"
      ],
      "text/plain": [
       "          Close\n",
       "2254  40.985001\n",
       "2255  41.517502\n",
       "2256  40.222500\n",
       "2257  39.207500\n",
       "2258  37.682499\n",
       "...         ...\n",
       "2349  52.119999\n",
       "2350  50.715000\n",
       "2351  50.724998\n",
       "2352  50.180000\n",
       "2353  49.294998\n",
       "\n",
       "[100 rows x 1 columns]"
      ]
     },
     "execution_count": 82,
     "metadata": {},
     "output_type": "execute_result"
    }
   ],
   "source": [
    "past_100_days = data_training.tail(100)\n",
    "past_100_days"
   ]
  },
  {
   "cell_type": "code",
   "execution_count": 83,
   "id": "a290bb1a-2592-425d-a1ae-0d1c71fa5219",
   "metadata": {
    "tags": []
   },
   "outputs": [
    {
     "name": "stderr",
     "output_type": "stream",
     "text": [
      "C:\\Users\\ASUS\\AppData\\Local\\Temp\\ipykernel_6108\\3501726630.py:1: FutureWarning: The frame.append method is deprecated and will be removed from pandas in a future version. Use pandas.concat instead.\n",
      "  final_df = past_100_days.append(data_testing, ignore_index= True)\n"
     ]
    }
   ],
   "source": [
    "final_df = past_100_days.append(data_testing, ignore_index= True)"
   ]
  },
  {
   "cell_type": "code",
   "execution_count": 84,
   "id": "7b38e1d6-3a1a-41f2-b6fe-e6448e496f50",
   "metadata": {
    "tags": []
   },
   "outputs": [
    {
     "data": {
      "text/html": [
       "<div>\n",
       "<style scoped>\n",
       "    .dataframe tbody tr th:only-of-type {\n",
       "        vertical-align: middle;\n",
       "    }\n",
       "\n",
       "    .dataframe tbody tr th {\n",
       "        vertical-align: top;\n",
       "    }\n",
       "\n",
       "    .dataframe thead th {\n",
       "        text-align: right;\n",
       "    }\n",
       "</style>\n",
       "<table border=\"1\" class=\"dataframe\">\n",
       "  <thead>\n",
       "    <tr style=\"text-align: right;\">\n",
       "      <th></th>\n",
       "      <th>Close</th>\n",
       "    </tr>\n",
       "  </thead>\n",
       "  <tbody>\n",
       "    <tr>\n",
       "      <th>0</th>\n",
       "      <td>40.985001</td>\n",
       "    </tr>\n",
       "    <tr>\n",
       "      <th>1</th>\n",
       "      <td>41.517502</td>\n",
       "    </tr>\n",
       "    <tr>\n",
       "      <th>2</th>\n",
       "      <td>40.222500</td>\n",
       "    </tr>\n",
       "    <tr>\n",
       "      <th>3</th>\n",
       "      <td>39.207500</td>\n",
       "    </tr>\n",
       "    <tr>\n",
       "      <th>4</th>\n",
       "      <td>37.682499</td>\n",
       "    </tr>\n",
       "    <tr>\n",
       "      <th>...</th>\n",
       "      <td>...</td>\n",
       "    </tr>\n",
       "    <tr>\n",
       "      <th>1104</th>\n",
       "      <td>173.500000</td>\n",
       "    </tr>\n",
       "    <tr>\n",
       "      <th>1105</th>\n",
       "      <td>171.770004</td>\n",
       "    </tr>\n",
       "    <tr>\n",
       "      <th>1106</th>\n",
       "      <td>173.559998</td>\n",
       "    </tr>\n",
       "    <tr>\n",
       "      <th>1107</th>\n",
       "      <td>173.750000</td>\n",
       "    </tr>\n",
       "    <tr>\n",
       "      <th>1108</th>\n",
       "      <td>172.570007</td>\n",
       "    </tr>\n",
       "  </tbody>\n",
       "</table>\n",
       "<p>1109 rows × 1 columns</p>\n",
       "</div>"
      ],
      "text/plain": [
       "           Close\n",
       "0      40.985001\n",
       "1      41.517502\n",
       "2      40.222500\n",
       "3      39.207500\n",
       "4      37.682499\n",
       "...          ...\n",
       "1104  173.500000\n",
       "1105  171.770004\n",
       "1106  173.559998\n",
       "1107  173.750000\n",
       "1108  172.570007\n",
       "\n",
       "[1109 rows x 1 columns]"
      ]
     },
     "execution_count": 84,
     "metadata": {},
     "output_type": "execute_result"
    }
   ],
   "source": [
    "final_df"
   ]
  },
  {
   "cell_type": "code",
   "execution_count": 85,
   "id": "06309810-9eac-466f-975c-5d29041aebe1",
   "metadata": {
    "tags": []
   },
   "outputs": [
    {
     "data": {
      "text/plain": [
       "array([[0.03712555],\n",
       "       [0.0407613 ],\n",
       "       [0.03191943],\n",
       "       ...,\n",
       "       [0.94230607],\n",
       "       [0.94360335],\n",
       "       [0.93554673]])"
      ]
     },
     "execution_count": 85,
     "metadata": {},
     "output_type": "execute_result"
    }
   ],
   "source": [
    "input_data = scaler.fit_transform(final_df)\n",
    "input_data"
   ]
  },
  {
   "cell_type": "code",
   "execution_count": 86,
   "id": "fdd1574a-3ff7-4bf8-9c90-751040ae0669",
   "metadata": {
    "tags": []
   },
   "outputs": [
    {
     "data": {
      "text/plain": [
       "array([[0.03712555],\n",
       "       [0.0407613 ],\n",
       "       [0.03191943],\n",
       "       ...,\n",
       "       [0.94230607],\n",
       "       [0.94360335],\n",
       "       [0.93554673]])"
      ]
     },
     "execution_count": 86,
     "metadata": {},
     "output_type": "execute_result"
    }
   ],
   "source": [
    "input_data"
   ]
  },
  {
   "cell_type": "code",
   "execution_count": 87,
   "id": "199fc09e-7a28-414e-ac47-4d888f76426b",
   "metadata": {
    "tags": []
   },
   "outputs": [
    {
     "data": {
      "text/plain": [
       "(1109, 1)"
      ]
     },
     "execution_count": 87,
     "metadata": {},
     "output_type": "execute_result"
    }
   ],
   "source": [
    "input_data.shape"
   ]
  },
  {
   "cell_type": "code",
   "execution_count": 88,
   "id": "b68b436a-32c7-43f1-986f-64da01b1d969",
   "metadata": {
    "tags": []
   },
   "outputs": [],
   "source": [
    "x_test = []\n",
    "y_test = []\n",
    "\n",
    "for i in range (100,input_data.shape[0]):\n",
    "    x_test.append(input_data[i-100:i])\n",
    "    y_test.append(input_data[i,0])"
   ]
  },
  {
   "cell_type": "code",
   "execution_count": 89,
   "id": "d9ce785f-798a-4295-8566-996b55db6bcd",
   "metadata": {
    "tags": []
   },
   "outputs": [
    {
     "name": "stdout",
     "output_type": "stream",
     "text": [
      "(1009, 100, 1)\n",
      "(1009,)\n"
     ]
    }
   ],
   "source": [
    "x_test, y_test = np.array(x_test), np.array(y_test)\n",
    "print(x_test.shape)\n",
    "print(y_test.shape)"
   ]
  },
  {
   "cell_type": "markdown",
   "id": "1e01ce6e-4c15-49ac-b08e-9fe712b84619",
   "metadata": {
    "tags": []
   },
   "source": [
    "##### Our ML MOdel Making Predictions"
   ]
  },
  {
   "cell_type": "code",
   "execution_count": 90,
   "id": "d20e0d2a-8f87-4711-b868-d0132b82e21f",
   "metadata": {
    "tags": []
   },
   "outputs": [
    {
     "name": "stdout",
     "output_type": "stream",
     "text": [
      "32/32 [==============================] - 3s 69ms/step\n"
     ]
    }
   ],
   "source": [
    "#Making Predictions\n",
    "\n",
    "y_predicted = model.predict(x_test)"
   ]
  },
  {
   "cell_type": "code",
   "execution_count": 91,
   "id": "f0164783-3e18-476a-b51b-bd2c0dfa7976",
   "metadata": {
    "tags": []
   },
   "outputs": [
    {
     "data": {
      "text/plain": [
       "(1009, 1)"
      ]
     },
     "execution_count": 91,
     "metadata": {},
     "output_type": "execute_result"
    }
   ],
   "source": [
    "y_predicted.shape"
   ]
  },
  {
   "cell_type": "code",
   "execution_count": 92,
   "id": "68969f97-4f36-4d43-8861-7fa1957e3798",
   "metadata": {
    "tags": []
   },
   "outputs": [
    {
     "data": {
      "text/plain": [
       "array([0.0743023 , 0.07932065, 0.08317828, ..., 0.94230607, 0.94360335,\n",
       "       0.93554673])"
      ]
     },
     "execution_count": 92,
     "metadata": {},
     "output_type": "execute_result"
    }
   ],
   "source": [
    "y_test"
   ]
  },
  {
   "cell_type": "code",
   "execution_count": 93,
   "id": "28d8f47d-4866-49b9-89a9-ac36d1c18e84",
   "metadata": {
    "tags": []
   },
   "outputs": [
    {
     "data": {
      "text/plain": [
       "array([[0.1508985 ],\n",
       "       [0.15124471],\n",
       "       [0.15137888],\n",
       "       ...,\n",
       "       [0.872303  ],\n",
       "       [0.8760395 ],\n",
       "       [0.8800975 ]], dtype=float32)"
      ]
     },
     "execution_count": 93,
     "metadata": {},
     "output_type": "execute_result"
    }
   ],
   "source": [
    "y_predicted"
   ]
  },
  {
   "cell_type": "code",
   "execution_count": 94,
   "id": "d45bf49b-8de4-47ec-b715-f28c5c4e2d57",
   "metadata": {
    "tags": []
   },
   "outputs": [
    {
     "data": {
      "text/plain": [
       "array([0.00682769])"
      ]
     },
     "execution_count": 94,
     "metadata": {},
     "output_type": "execute_result"
    }
   ],
   "source": [
    "scaler.scale_"
   ]
  },
  {
   "cell_type": "code",
   "execution_count": 95,
   "id": "1c5cc953-8f3a-4620-b802-533e94199233",
   "metadata": {
    "tags": []
   },
   "outputs": [],
   "source": [
    "scale_factor = 1/scaler.scale_[0]\n",
    "y_predicted = y_predicted*scale_factor\n",
    "y_test = y_test*scale_factor"
   ]
  },
  {
   "cell_type": "markdown",
   "id": "dedc3add-77dc-4107-aae9-60a17881f268",
   "metadata": {},
   "source": [
    "\n",
    "#### Compairing the Original Prices of the Stock and the Predictions made by our ML Model\n",
    "###### Original Price : Blue\n",
    "###### Predictions : Green"
   ]
  },
  {
   "cell_type": "code",
   "execution_count": 129,
   "id": "6c5364cd-dcb9-4c25-9679-8e068ac6fc0a",
   "metadata": {
    "tags": []
   },
   "outputs": [
    {
     "name": "stdout",
     "output_type": "stream",
     "text": [
      "2354   2019-05-13\n",
      "2355   2019-05-14\n",
      "2356   2019-05-15\n",
      "2357   2019-05-16\n",
      "2358   2019-05-17\n",
      "          ...    \n",
      "3358   2023-05-08\n",
      "3359   2023-05-09\n",
      "3360   2023-05-10\n",
      "3361   2023-05-11\n",
      "3362   2023-05-12\n",
      "Name: Date, Length: 1009, dtype: datetime64[ns]\n"
     ]
    }
   ],
   "source": [
    "# x-axis date fpr the graph plotted below\n",
    "date = df.loc[ int(len(df)*0.70):int(len(df)),\"Date\"]\n",
    "print(date)"
   ]
  },
  {
   "cell_type": "code",
   "execution_count": 142,
   "id": "16c9b490-e113-4901-ab6b-a23276afc627",
   "metadata": {
    "tags": []
   },
   "outputs": [
    {
     "data": {
      "image/png": "[encoded data removed]",
      "text/plain": [
       "<Figure size 1200x600 with 1 Axes>"
      ]
     },
     "metadata": {},
     "output_type": "display_data"
    }
   ],
   "source": [
    "plt.figure(figsize=(12,6))\n",
    "plt.plot(date,y_test,'blue',label='Original Price')\n",
    "plt.plot(date,y_predicted,'green',label='Predicted Price')\n",
    "plt.xlabel(\"Time\")\n",
    "plt.ylabel(\"Price\")\n",
    "plt.legend()\n",
    "plt.show()"
   ]
  },
  {
   "cell_type": "markdown",
   "id": "491fd803-17bd-4864-9b4c-f6b8ce3f8aac",
   "metadata": {
    "tags": []
   },
   "source": [
    "#### THANK YOU !!\n",
    "\n",
    "##### Project by Mr. Arghadip Biswas"
   ]
  },
  {
   "cell_type": "code",
   "execution_count": 145,
   "id": "645578fc-ba8b-4dfe-9463-db62f052377c",
   "metadata": {
    "tags": []
   },
   "outputs": [
    {
     "name": "stdout",
     "output_type": "stream",
     "text": [
      "2354   2019-05-13\n",
      "2355   2019-05-14\n",
      "2356   2019-05-15\n",
      "2357   2019-05-16\n",
      "2358   2019-05-17\n",
      "          ...    \n",
      "3358   2023-05-08\n",
      "3359   2023-05-09\n",
      "3360   2023-05-10\n",
      "3361   2023-05-11\n",
      "3362   2023-05-12\n",
      "Name: Date, Length: 1009, dtype: datetime64[ns]\n"
     ]
    }
   ],
   "source": [
    "new_date = df.iloc[ int(len(df)*0.70):int(len(df)),0]\n",
    "print(new_date)"
   ]
  },
  {
   "cell_type": "code",
   "execution_count": null,
   "id": "642a1e0a-7f9a-4dff-be7e-3c5b64e505e8",
   "metadata": {},
   "outputs": [],
   "source": []
  }
 ],
 "metadata": {
  "kernelspec": {
   "display_name": "Python 3 (ipykernel)",
   "language": "python",
   "name": "python3"
  },
  "language_info": {
   "codemirror_mode": {
    "name": "ipython",
    "version": 3
   },
   "file_extension": ".py",
   "mimetype": "text/x-python",
   "name": "python",
   "nbconvert_exporter": "python",
   "pygments_lexer": "ipython3",
   "version": "3.10.8"
  },
  "toc-showcode": false
 },
 "nbformat": 4,
 "nbformat_minor": 5
}
